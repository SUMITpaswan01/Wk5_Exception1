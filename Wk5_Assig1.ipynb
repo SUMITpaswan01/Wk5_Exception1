{
 "cells": [
  {
   "cell_type": "markdown",
   "id": "e9e841fb-1aae-462c-9df5-5866549d8cec",
   "metadata": {},
   "source": [
    "Q1. What is an Exception in python ? Write the difference between Exception and syntax errors."
   ]
  },
  {
   "cell_type": "markdown",
   "id": "f8c73bcb-683e-46ff-a973-9b14f26565e9",
   "metadata": {},
   "source": [
    "Ans :- An Exception is an error that happens during the execution of a program.\n",
    "Whenever there is an error, Python generates an exception that could be handled. It basically prevents the program from getting crashed.\n",
    "\n",
    "Difference between Exception and syntax error :-- \n",
    "An Error is a severe situation generated when the user performs an unexpected operation, while\n",
    "An Exception is an event that occurs during the program execution and disrupts the normal flow of the program’s execution.v"
   ]
  },
  {
   "cell_type": "markdown",
   "id": "59659b3c-84d1-4387-a8db-a04ac5341ee4",
   "metadata": {},
   "source": [
    "Q2.What happens when an exception is not handled? Explain with an example."
   ]
  },
  {
   "cell_type": "markdown",
   "id": "13e8145f-37a5-42a5-b781-63e0a4de2d60",
   "metadata": {},
   "source": [
    "Ans:- If the exceptions are not handled, it drives the program into a halt state. Exception handling in python is required to prevent the program from terminating abruptly.\n",
    "This example tries to open a file where you do not have write permission, so it raises an exception −"
   ]
  },
  {
   "cell_type": "code",
   "execution_count": 3,
   "id": "a6242157-c630-4e04-bda2-70dd0695d10a",
   "metadata": {},
   "outputs": [
    {
     "name": "stdout",
     "output_type": "stream",
     "text": [
      "Error: can't find file or read data\n"
     ]
    }
   ],
   "source": [
    "try:\n",
    "   f = open(\"testfile\", \"r\")\n",
    "   f.write(\"This is my test file for exception handling!!\")\n",
    "except IOError:\n",
    "   print (\"Error: can\\'t find file or read data\")\n",
    "else:\n",
    "   print (\"Written content in the file successfully\")"
   ]
  },
  {
   "cell_type": "markdown",
   "id": "d435d9c5-e4a3-4e7d-874b-1a7292fa38c4",
   "metadata": {},
   "source": [
    "Q3.which python statements are used to catch and handled the Exceptions? Explain with an Example.\n",
    "\n",
    "Ans:-- Python uses try and except keywords to catch and handle exceptions. The try: block contains one or more statements that are likely to encounter an exception."
   ]
  },
  {
   "cell_type": "code",
   "execution_count": 2,
   "id": "1169c99d-df42-4602-9304-02554bb99d8f",
   "metadata": {},
   "outputs": [
    {
     "name": "stdout",
     "output_type": "stream",
     "text": [
      "write in my file\n",
      "this will be executed once your try will Excuted without error\n"
     ]
    }
   ],
   "source": [
    "#.....Example.....\n",
    "try:\n",
    "    f = open(\"test.txt\", \"w\")\n",
    "    print(\"write in my file\")\n",
    "\n",
    "except Exception as e:\n",
    "    print(\"this is my except block\", e)\n",
    "else:\n",
    "    f.close()\n",
    "    print(\"this will be executed once your try will Excuted without error\")"
   ]
  },
  {
   "cell_type": "markdown",
   "id": "20848deb-72af-48b8-a661-89791dd7ae7d",
   "metadata": {},
   "source": [
    "Q4.Explain with an example:\n",
    "\n",
    " a)try and else \n",
    " \n",
    " b)finally\n",
    " \n",
    " c)raise"
   ]
  },
  {
   "cell_type": "code",
   "execution_count": 3,
   "id": "ef877f8b-3f1f-4958-9ba0-1dcfeba2a1f8",
   "metadata": {},
   "outputs": [
    {
     "name": "stdout",
     "output_type": "stream",
     "text": [
      "write in my file\n",
      "this will be executed once your try will Excuted without error\n"
     ]
    }
   ],
   "source": [
    "#......try and else......\n",
    "try:\n",
    "    f = open(\"test.txt\", \"w\")\n",
    "    print(\"write in my file\")\n",
    "\n",
    "except Exception as e:\n",
    "    print(\"this is my except block\", e)\n",
    "else:\n",
    "    f.close()\n",
    "    print(\"this will be executed once your try will Excuted without error\")"
   ]
  },
  {
   "cell_type": "code",
   "execution_count": 5,
   "id": "4398505f-c574-4922-a4f1-bc9b45acec8e",
   "metadata": {},
   "outputs": [
    {
     "name": "stdout",
     "output_type": "stream",
     "text": [
      "this is an example of finally\n",
      "finally will be executed in any situation\n"
     ]
    }
   ],
   "source": [
    "#.....finally.....\n",
    "try:\n",
    "    f = open(\"test1.txt\",'w')\n",
    "    print(\"this is an example of finally\")\n",
    "finally:\n",
    "    print(\"finally will be executed in any situation\")"
   ]
  },
  {
   "cell_type": "code",
   "execution_count": 12,
   "id": "d85705a1-7390-447f-8a92-c147e5500c5c",
   "metadata": {},
   "outputs": [
    {
     "name": "stdout",
     "output_type": "stream",
     "text": [
      "ValueError Exception! Value must be within 1 and 10.\n"
     ]
    }
   ],
   "source": [
    "#.....raise.....\n",
    "try:\n",
    " Ex = ValueError()\n",
    " Ex.strerror = \"Value must be within 1 and 10.\"\n",
    " raise Ex\n",
    "except ValueError as e:\n",
    " print(\"ValueError Exception!\", e.strerror)"
   ]
  },
  {
   "cell_type": "markdown",
   "id": "9b0beeb0-6b51-4e6c-9d74-ea3e2874e5e3",
   "metadata": {},
   "source": [
    "Q5.What are Custom Exception in python? Why do we need Custom Exceptions? Explain with an example.\n",
    "\n",
    "Ans:--In Python, we have the ability to create our own exception classes. \n",
    "      The construction of custom exception classes can enrich our class design."
   ]
  },
  {
   "cell_type": "code",
   "execution_count": 11,
   "id": "57cf1256-6b00-4a62-acb8-4ac636af7002",
   "metadata": {},
   "outputs": [
    {
     "name": "stdin",
     "output_type": "stream",
     "text": [
      "Enter a number:  56\n"
     ]
    },
    {
     "name": "stdout",
     "output_type": "stream",
     "text": [
      "Eligible to Vote\n"
     ]
    }
   ],
   "source": [
    "# define Python user-defined exceptions\n",
    "class InvalidAgeException(Exception):\n",
    "    \"Raised when the input value is less than 18\"\n",
    "    pass\n",
    "\n",
    "# you need to guess this number\n",
    "number = 18\n",
    "\n",
    "try:\n",
    "    input_num = int(input(\"Enter a number: \"))\n",
    "    if input_num < number:\n",
    "        raise InvalidAgeException\n",
    "    else:\n",
    "        print(\"Eligible to Vote\")\n",
    "        \n",
    "except InvalidAgeException:\n",
    "    print(\"Exception occurred: Invalid Age\")"
   ]
  },
  {
   "cell_type": "markdown",
   "id": "74df66ac-afd6-4393-b77d-25c4b35a6a23",
   "metadata": {},
   "source": [
    "Q6. Create a custom Exception class. Use this class to handle the exception."
   ]
  },
  {
   "cell_type": "code",
   "execution_count": 15,
   "id": "2ec42431-876b-4f14-b1d5-fe8ce0c1c407",
   "metadata": {},
   "outputs": [
    {
     "name": "stdout",
     "output_type": "stream",
     "text": [
      "A New Exception occurred:  6\n"
     ]
    }
   ],
   "source": [
    "# A python program to create user-defined exception\n",
    "# class MyError is derived from super class Exception\n",
    "class MyError(Exception):\n",
    "\n",
    "\t# Constructor or Initializer\n",
    "\tdef __init__(self, value):\n",
    "\t\tself.value = value\n",
    "\n",
    "\t# __str__ is to print() the value\n",
    "\tdef __str__(self):\n",
    "\t\treturn(repr(self.value))\n",
    "\n",
    "\n",
    "try:\n",
    "\traise(MyError(3*2))\n",
    "\n",
    "# Value of Exception is stored in error\n",
    "except MyError as error:\n",
    "\tprint('A New Exception occurred: ', error.value)\n"
   ]
  },
  {
   "cell_type": "code",
   "execution_count": null,
   "id": "3ff99749-14e0-4e0b-9fed-e1c85efaf465",
   "metadata": {},
   "outputs": [],
   "source": []
  }
 ],
 "metadata": {
  "kernelspec": {
   "display_name": "Python 3 (ipykernel)",
   "language": "python",
   "name": "python3"
  },
  "language_info": {
   "codemirror_mode": {
    "name": "ipython",
    "version": 3
   },
   "file_extension": ".py",
   "mimetype": "text/x-python",
   "name": "python",
   "nbconvert_exporter": "python",
   "pygments_lexer": "ipython3",
   "version": "3.10.8"
  }
 },
 "nbformat": 4,
 "nbformat_minor": 5
}
